{
 "cells": [
  {
   "cell_type": "markdown",
   "metadata": {},
   "source": [
    "### Тестирование гипотез"
   ]
  },
  {
   "cell_type": "markdown",
   "metadata": {},
   "source": [
    "Для расчета p-value используйте формулу norm.cdf(). Напомним, что эта функция находит площадь «левого хвоста» на графике плотности стандартного нормального распределения Z — площадь под кривой налево от заданной точки z."
   ]
  },
  {
   "cell_type": "markdown",
   "metadata": {},
   "source": [
    "### Задача 1. Условия"
   ]
  },
  {
   "cell_type": "markdown",
   "metadata": {},
   "source": [
    "Производитель аккумуляторных батарей заявляет, что средний срок службы батарейки АА составляет 14 месяцев. Вы подозреваете, что на самом деле это число преувеличено.\n",
    "\n",
    "Чтобы проверить утверждение производителя, вы взяли случайную выборку из 64 батареек и посчитали выборочное среднее — 13.5 месяцев. Известно, что срок службы батарейки имеет стандартное отклонение 2 месяца. Для тестирования гипотезы используйте уровень значимости alpha = 0.05.\n",
    "\n",
    "Обратите внимание, что как постановка альтернативной гипотезы, так и выбор уровня значимости alpha может повлиять на вывод, который вы делаете в результате тестирования гипотезы."
   ]
  },
  {
   "cell_type": "code",
   "execution_count": 2,
   "metadata": {},
   "outputs": [],
   "source": [
    "from scipy.stats import norm"
   ]
  },
  {
   "cell_type": "code",
   "execution_count": 3,
   "metadata": {},
   "outputs": [],
   "source": [
    "    #H0 = 14\n",
    "    #Ha < 14\n",
    "    h0 = 14\n",
    "    n = 64\n",
    "    Xmean = 13.5\n",
    "    sigma = 2\n",
    "    alpha = 0.05"
   ]
  },
  {
   "cell_type": "code",
   "execution_count": 9,
   "metadata": {},
   "outputs": [
    {
     "data": {
      "text/plain": [
       "-2.0"
      ]
     },
     "execution_count": 9,
     "metadata": {},
     "output_type": "execute_result"
    }
   ],
   "source": [
    "Zst = (Xmean - h0)/(sigma/((n)**0.5))\n",
    "Zst"
   ]
  },
  {
   "cell_type": "code",
   "execution_count": 10,
   "metadata": {},
   "outputs": [
    {
     "data": {
      "text/plain": [
       "0.022750131948179195"
      ]
     },
     "execution_count": 10,
     "metadata": {},
     "output_type": "execute_result"
    }
   ],
   "source": [
    "p_value = norm.cdf(-2)\n",
    "p_value"
   ]
  },
  {
   "cell_type": "markdown",
   "metadata": {},
   "source": [
    "Так как распределение p-value лежит левее распределения alpha то делаем вывод что гипотеза 0 не верна и мы её отвергаем в пользу того что срок службы батареек ниже чем 14 месяцев"
   ]
  },
  {
   "cell_type": "markdown",
   "metadata": {},
   "source": [
    "### Задача 2. Условия"
   ]
  },
  {
   "cell_type": "markdown",
   "metadata": {},
   "source": [
    "На упаковке муки указана ее масса — 455г. Известно, что масса муки в упаковке распределена приблизительно нормально, и что ее стандартное отклонение составляет 12.5 граммов. В случайной выборке из 16 упаковок средняя масса составила 449 граммов.\n",
    "\n",
    "Протестируйте на уровне значимости 5% нулевую гипотезу о том, что средняя масса упаковки с мукой составляет 455 граммов."
   ]
  },
  {
   "cell_type": "code",
   "execution_count": 11,
   "metadata": {},
   "outputs": [],
   "source": [
    "#H0 = 455\n",
    "#Ha != 455\n",
    "h0 = 455\n",
    "n = 16\n",
    "Xmean = 449\n",
    "sigma = 12.5\n",
    "alpha = 0.05"
   ]
  },
  {
   "cell_type": "code",
   "execution_count": 13,
   "metadata": {},
   "outputs": [
    {
     "data": {
      "text/plain": [
       "-1.92"
      ]
     },
     "execution_count": 13,
     "metadata": {},
     "output_type": "execute_result"
    }
   ],
   "source": [
    "Zst = (Xmean - h0)/(sigma/((n)**0.5))\n",
    "Zst"
   ]
  },
  {
   "cell_type": "code",
   "execution_count": 14,
   "metadata": {},
   "outputs": [
    {
     "data": {
      "text/plain": [
       "0.054857899407673605"
      ]
     },
     "execution_count": 14,
     "metadata": {},
     "output_type": "execute_result"
    }
   ],
   "source": [
    "p_value = norm.cdf(Zst)\n",
    "p_value * 2"
   ]
  },
  {
   "cell_type": "markdown",
   "metadata": {},
   "source": [
    "Можно прийти к выводу, что указанное на упаковке количество граммов соответствует истинной средней массе муки в упаковке потому что мы не можем отвергнуть нулевую гипотезу mu = 455(h0)"
   ]
  },
  {
   "cell_type": "markdown",
   "metadata": {},
   "source": [
    "Вы заподозрили, что производитель сознательно завышает количество граммов, указанное на упаковке, в то время как на самом деле средняя масса ниже. Сформулируйте соответствующую альтернативную гипотезу и протестируйте ее.\n",
    "\n",
    "Чему в таком случае равно значение p-value? Ответ округлите до 3 знаков после разделительной точки. "
   ]
  },
  {
   "cell_type": "code",
   "execution_count": 15,
   "metadata": {},
   "outputs": [],
   "source": [
    "#H0 = 455\n",
    "#Ha < 455\n",
    "h0 = 455\n",
    "n = 16\n",
    "Xmean = 449\n",
    "sigma = 12.5\n",
    "alpha = 0.05"
   ]
  },
  {
   "cell_type": "code",
   "execution_count": 16,
   "metadata": {},
   "outputs": [
    {
     "data": {
      "text/plain": [
       "-1.92"
      ]
     },
     "execution_count": 16,
     "metadata": {},
     "output_type": "execute_result"
    }
   ],
   "source": [
    "Zst = (Xmean - h0)/(sigma/((n)**0.5))\n",
    "Zst"
   ]
  },
  {
   "cell_type": "code",
   "execution_count": 17,
   "metadata": {},
   "outputs": [
    {
     "data": {
      "text/plain": [
       "0.027428949703836802"
      ]
     },
     "execution_count": 17,
     "metadata": {},
     "output_type": "execute_result"
    }
   ],
   "source": [
    "p_value = norm.cdf(Zst)\n",
    "p_value"
   ]
  },
  {
   "cell_type": "markdown",
   "metadata": {},
   "source": [
    "Чтобы найти p-value для t-статистики, применяйте одну из функций:\n",
    "\n",
    "        stats.t.cdf(), если в альтернативной гипотезе стоит знак <; эта функция находит площадь «левого хвоста» на графике плотности распределения Стьюдента — площадь под кривой слева от заданной точки;\n",
    "        1 - stats.t.cdf(), если в альтернативной гипотезе стоит знак >; эта функция находит площадь «правого хвоста» на графике плотности распределения Стьюдента — площадь под кривой справа от заданной точки;\n",
    "        (1 - stats.t.cdf()) * 2, если в альтернативной гипотезе стоит знак ≠; эта функция находит площадь «хвоста» на графике плотности распределения Стьюдента и возвращает ее удвоенное значение.\n"
   ]
  },
  {
   "cell_type": "markdown",
   "metadata": {},
   "source": [
    "Функции группы stats.t.cdf имеют следующие аргументы:\n",
    "\n",
    "        значение t-статистики;\n",
    "        количество степеней свободы df — находим как (n-1).\n"
   ]
  },
  {
   "cell_type": "code",
   "execution_count": 18,
   "metadata": {},
   "outputs": [],
   "source": [
    "from scipy.stats import t"
   ]
  },
  {
   "cell_type": "markdown",
   "metadata": {},
   "source": [
    "### Задача 1. Условия"
   ]
  },
  {
   "cell_type": "markdown",
   "metadata": {},
   "source": [
    "Производитель утверждает, что новая модель кондиционера для воздуха потребляет только 6.5 кВт⋅ч электричества в день. Однако в союзе потребителей убеждены, что истинное среднее количество потребляемой энергии выше этого значения.\n",
    "\n",
    "Союз проводит собственное исследование на основании случайной выборки в 25 кондиционеров и находит, что выборочное среднее значение равно 7 кВт⋅ч. Известно, что количество потребляемой кондиционером энергии распределено нормально и его истинное стандартное отклонение равно 1.4 кВт⋅ч."
   ]
  },
  {
   "cell_type": "code",
   "execution_count": 21,
   "metadata": {},
   "outputs": [],
   "source": [
    "#H0 = 6.5\n",
    "#Ha > 6.5\n",
    "h0 = 6.5\n",
    "n = 25\n",
    "Xmean = 7\n",
    "sigma = 1.4\n",
    "alpha = 0.05"
   ]
  },
  {
   "cell_type": "code",
   "execution_count": 22,
   "metadata": {},
   "outputs": [
    {
     "data": {
      "text/plain": [
       "1.7857142857142858"
      ]
     },
     "execution_count": 22,
     "metadata": {},
     "output_type": "execute_result"
    }
   ],
   "source": [
    "Zst = (Xmean - h0)/(sigma/((n)**0.5))\n",
    "Zst"
   ]
  },
  {
   "cell_type": "code",
   "execution_count": 24,
   "metadata": {},
   "outputs": [
    {
     "data": {
      "text/plain": [
       "0.03707276555570338"
      ]
     },
     "execution_count": 24,
     "metadata": {},
     "output_type": "execute_result"
    }
   ],
   "source": [
    "p_value = norm.cdf(Zst)\n",
    "1 - p_value"
   ]
  },
  {
   "cell_type": "markdown",
   "metadata": {},
   "source": [
    "### Задача 2. Условия"
   ]
  },
  {
   "cell_type": "markdown",
   "metadata": {},
   "source": [
    "Региональные власти утверждают, что средний годовой доход домохозяйства составляет 12000. \n",
    "Экономист, подозревая, что истинный средний доход может быть меньше, находит на случайной выборке из 135 домохозяйств этого региона, что средний доход равен 11500, а стандартное отклонение равно $5110."
   ]
  },
  {
   "cell_type": "code",
   "execution_count": 25,
   "metadata": {},
   "outputs": [],
   "source": [
    "#H0 = 12000\n",
    "#Ha < 12000\n",
    "h0 = 12000\n",
    "n = 135\n",
    "Xmean = 11500\n",
    "sigma = 5110\n",
    "alpha = 0.05"
   ]
  },
  {
   "cell_type": "code",
   "execution_count": 26,
   "metadata": {},
   "outputs": [
    {
     "data": {
      "text/plain": [
       "-1.1368835654229208"
      ]
     },
     "execution_count": 26,
     "metadata": {},
     "output_type": "execute_result"
    }
   ],
   "source": [
    "Zst = (Xmean - h0)/(sigma/((n)**0.5))\n",
    "Zst"
   ]
  },
  {
   "cell_type": "code",
   "execution_count": 27,
   "metadata": {},
   "outputs": [
    {
     "data": {
      "text/plain": [
       "0.12779348165373833"
      ]
     },
     "execution_count": 27,
     "metadata": {},
     "output_type": "execute_result"
    }
   ],
   "source": [
    "p_value = norm.cdf(Zst)\n",
    "p_value"
   ]
  },
  {
   "cell_type": "markdown",
   "metadata": {},
   "source": [
    "### Задача 3. Условия"
   ]
  },
  {
   "cell_type": "markdown",
   "metadata": {},
   "source": [
    "Сотрудники компании, специализирующейся на продаже франшиз, заявляют, что процент возврата на инвестиции в проданные ими франшизы уже в первый год составляет 10(все дальнейшие значения приведены в процентах, их можно игнорировать как единицы измерения). Была взята выборка из 10 различных сделок данной компании и рассчитан процент возврата на инвестиции в первый год в каждой из них. Значения приведены в таблице ниже:"
   ]
  },
  {
   "cell_type": "code",
   "execution_count": 28,
   "metadata": {},
   "outputs": [],
   "source": [
    "P = [6.1, 9.2, 11.5, 8.6, 12.1, 3.9, 8.4, 10.1, 9.4, 8.9]"
   ]
  },
  {
   "cell_type": "markdown",
   "metadata": {},
   "source": [
    "Вы хотите проверить достоверность заявления, сделанного компанией, подозревая, что на самом деле средний процент возврата на инвестиции в первый год ниже 10. Чтобы протестировать соответствующую гипотезу, сначала рассчитайте в Python значение среднего и стандартного отклонения."
   ]
  },
  {
   "cell_type": "code",
   "execution_count": 33,
   "metadata": {},
   "outputs": [],
   "source": [
    "import numpy as np\n",
    "#H0 = 10\n",
    "#Ha < 10\n",
    "h0 = 10\n",
    "n = 10\n",
    "Xmean = np.mean(P)\n",
    "sigma = np.std(P)"
   ]
  },
  {
   "cell_type": "code",
   "execution_count": 34,
   "metadata": {},
   "outputs": [
    {
     "data": {
      "text/plain": [
       "-1.6380044030897418"
      ]
     },
     "execution_count": 34,
     "metadata": {},
     "output_type": "execute_result"
    }
   ],
   "source": [
    "Zst = (Xmean - h0)/(sigma/((n)**0.5))\n",
    "Zst"
   ]
  },
  {
   "cell_type": "code",
   "execution_count": 40,
   "metadata": {},
   "outputs": [
    {
     "data": {
      "text/plain": [
       "0.06997453006735649"
      ]
     },
     "execution_count": 40,
     "metadata": {},
     "output_type": "execute_result"
    }
   ],
   "source": [
    "p_value1 = t.cdf(Zst, P)\n",
    "p_value1.mean()"
   ]
  },
  {
   "cell_type": "markdown",
   "metadata": {},
   "source": [
    "p-value>0.05, поэтому мы не можем опровергнуть заявление компании "
   ]
  },
  {
   "cell_type": "markdown",
   "metadata": {},
   "source": [
    "### Задача 1. Условия"
   ]
  },
  {
   "cell_type": "markdown",
   "metadata": {},
   "source": [
    "Представитель профсоюза утверждает, что 75% сотрудников готовы присоединиться к забастовке, если их требования не будут удовлетворены. Сотрудник компании, ведущий переговоры с профсоюзом, считает, что эта пропорция сильно преувеличена. Он решает проверить утверждение представителя профсоюза, используя уровень значимости 5%. Таким образом, ему надо протестировать следующий набор гипотез: "
   ]
  },
  {
   "cell_type": "code",
   "execution_count": 41,
   "metadata": {},
   "outputs": [],
   "source": [
    "#H0: p = 0.75\n",
    "#Ha: p < 0.75"
   ]
  },
  {
   "cell_type": "markdown",
   "metadata": {},
   "source": [
    "В выборке из 125 сотрудников 87 ответили, что будут готовы поддержать забастовку в случае неудовлетворения требования профсоюза."
   ]
  },
  {
   "cell_type": "code",
   "execution_count": 45,
   "metadata": {},
   "outputs": [],
   "source": [
    "P_ = 87/125\n",
    "P0 = 0.75\n",
    "n = 125\n",
    "p_pos = 87\n",
    "p_neg = 125 - 87\n"
   ]
  },
  {
   "cell_type": "code",
   "execution_count": 53,
   "metadata": {},
   "outputs": [
    {
     "data": {
      "text/plain": [
       "-1.394"
      ]
     },
     "execution_count": 53,
     "metadata": {},
     "output_type": "execute_result"
    }
   ],
   "source": [
    "Zst = (P_ - P0)/(((P0*(1-P0))/n)**0.5)\n",
    "round(Zst, 3)"
   ]
  },
  {
   "cell_type": "code",
   "execution_count": 54,
   "metadata": {},
   "outputs": [
    {
     "data": {
      "text/plain": [
       "0.08161743887828882"
      ]
     },
     "execution_count": 54,
     "metadata": {},
     "output_type": "execute_result"
    }
   ],
   "source": [
    "p_value = norm.cdf(Zst)\n",
    "p_value"
   ]
  },
  {
   "cell_type": "code",
   "execution_count": null,
   "metadata": {},
   "outputs": [],
   "source": []
  }
 ],
 "metadata": {
  "kernelspec": {
   "display_name": "Python 3",
   "language": "python",
   "name": "python3"
  },
  "language_info": {
   "codemirror_mode": {
    "name": "ipython",
    "version": 3
   },
   "file_extension": ".py",
   "mimetype": "text/x-python",
   "name": "python",
   "nbconvert_exporter": "python",
   "pygments_lexer": "ipython3",
   "version": "3.8.2"
  }
 },
 "nbformat": 4,
 "nbformat_minor": 4
}
