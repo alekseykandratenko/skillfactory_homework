{
 "cells": [
  {
   "cell_type": "markdown",
   "metadata": {},
   "source": [
    "Задачи на разность средних в Python можно считать либо вручную, заранее рассчитав необходимые значения средних и стандартных отклонений и подставляя их в формулу Zst или Tst, либо используя библиотеку statsmodels.stats."
   ]
  },
  {
   "cell_type": "code",
   "execution_count": 1,
   "metadata": {},
   "outputs": [],
   "source": [
    "from statsmodels.stats import weightstats"
   ]
  },
  {
   "cell_type": "markdown",
   "metadata": {},
   "source": [
    "Чтобы сделать тест z-test, нужно использовать weightstats.CompareMeans.ztest_ind():"
   ]
  },
  {
   "cell_type": "markdown",
   "metadata": {},
   "source": [
    "weightstats.CompareMeans.ztest_ind() – для формулы ниже. Используется крайне редко, только если известны истинные стандартные отклонения.\n",
    "\n",
    "            Zst = (X1 - X2)/sqrt((sigma^2(1)/n1) + (sigma^2(2)/n2))"
   ]
  },
  {
   "cell_type": "markdown",
   "metadata": {},
   "source": [
    "Функции weightstats.CompareMeans.ztest_ind() и weightstats.ttest_ind() принимают на вход одни и те же параметры. Чтобы посчитать разность средних двух наборов данных, необходимо передать на вход функции два аргумента: x1 и x2. Где:\n",
    "    - x1 — первый набор данных;\n",
    "    - x2 — второй набор данных;"
   ]
  },
  {
   "cell_type": "markdown",
   "metadata": {},
   "source": [
    "Дополнительный параметр usevar может принимать два значения. Если usevar = 'pooled', то стандартное отклонение образцов считается одинаковым. Если usevar ='unequal', то стандартные отклонения образцов могут быть разными."
   ]
  },
  {
   "cell_type": "markdown",
   "metadata": {},
   "source": [
    "Функции weightstats.CompareMeans.ztest_ind() и weightstats.ttest_ind() возвращают:\n",
    "\n",
    "- значение t (или z)-статистики;\n",
    "- значение p-value;\n",
    "- значение степеней свободы."
   ]
  },
  {
   "cell_type": "code",
   "execution_count": 3,
   "metadata": {},
   "outputs": [],
   "source": [
    "X = [6.1, 9.2, 11.5, 8.6, 12.1, 3.9, 8.4, 10.1, 9.4, 8.9]\n",
    "Y = [7.3, 8.7, 12.6, 6.8, 12, 6.9, 10.2, 17.1, 9.2, 11.6]"
   ]
  },
  {
   "cell_type": "markdown",
   "metadata": {},
   "source": [
    "Известно, что это две случайные выборки, взятые независимо друг от друга и что обе переменные распределены нормально"
   ]
  },
  {
   "cell_type": "markdown",
   "metadata": {},
   "source": [
    "Протестировать гиппотезы:\n",
    "    H0: muX = muY, Ha: muX != muY"
   ]
  },
  {
   "cell_type": "code",
   "execution_count": 5,
   "metadata": {},
   "outputs": [],
   "source": [
    "# Сколько степеней свободы в соответствующем распределении Стьюдента?\n",
    "#16.673890238780608 = 17"
   ]
  },
  {
   "cell_type": "markdown",
   "metadata": {},
   "source": [
    "Примечание: мы не можем сказать, что выборочные отклонения наборов данных одинаковы. Уточните это в парамере usevar при вычислении. При необходимости ответ округлите до целого числа."
   ]
  },
  {
   "cell_type": "code",
   "execution_count": 8,
   "metadata": {},
   "outputs": [
    {
     "data": {
      "text/plain": [
       "(-1.1204320654469324, 0.2784090399452127, 16.673890238780608)"
      ]
     },
     "execution_count": 8,
     "metadata": {},
     "output_type": "execute_result"
    }
   ],
   "source": [
    "weightstats.ttest_ind(X,Y, usevar='unequal')"
   ]
  },
  {
   "cell_type": "markdown",
   "metadata": {},
   "source": [
    "Таким образом, мы не отвергаем гипотезу Н0 и проходим к выводу о равенстве средних значений Х и У."
   ]
  },
  {
   "cell_type": "markdown",
   "metadata": {},
   "source": [
    "У нас есть две случайные выборки (100 женщин в каждой) из двух исследуемых этнических групп, A и Б."
   ]
  },
  {
   "cell_type": "markdown",
   "metadata": {},
   "source": [
    "Таблица содержит количество положительных и отрицательных ответов на вопрос «Состояли ли вы в браке до достижения возраста 19 лет?» в каждой из выборок:"
   ]
  },
  {
   "cell_type": "code",
   "execution_count": 9,
   "metadata": {},
   "outputs": [],
   "source": [
    "group_a_yes = 62\n",
    "group_b_yes = 29\n",
    "group_a_no = 38\n",
    "group_b_no = 71"
   ]
  },
  {
   "cell_type": "markdown",
   "metadata": {},
   "source": [
    "Протестируйте гипотезу о равенстве пропорций женщин, состоявших в браке до 19 лет в группах A и Б против альтернативы, что эта пропорция в группе А выше."
   ]
  },
  {
   "cell_type": "markdown",
   "metadata": {},
   "source": [
    "H0: pA=pB\n",
    "Ha: pA > pB"
   ]
  },
  {
   "cell_type": "code",
   "execution_count": 11,
   "metadata": {},
   "outputs": [],
   "source": [
    "n1 = 100\n",
    "n2 = 100"
   ]
  },
  {
   "cell_type": "code",
   "execution_count": 10,
   "metadata": {},
   "outputs": [],
   "source": [
    "pA_ = group_a_yes / 100\n",
    "pB_ = group_b_yes / 100"
   ]
  },
  {
   "cell_type": "code",
   "execution_count": 12,
   "metadata": {},
   "outputs": [],
   "source": [
    "p_ = (group_a_yes + group_b_yes)/(n1+n2)"
   ]
  },
  {
   "cell_type": "code",
   "execution_count": 15,
   "metadata": {},
   "outputs": [
    {
     "data": {
      "text/plain": [
       "4.69"
      ]
     },
     "execution_count": 15,
     "metadata": {},
     "output_type": "execute_result"
    }
   ],
   "source": [
    "Zst = (pA_ - pB_)/((p_*(1-p_))**0.5 * ((1/n1 + 1/n2)**0.5))\n",
    "round(Zst,2)"
   ]
  },
  {
   "cell_type": "markdown",
   "metadata": {},
   "source": [
    "p-value < alpha 0.01 => отвеграем Н0 и приходим к выводу что пропорция в группе А выше чем в группу Б"
   ]
  },
  {
   "cell_type": "code",
   "execution_count": null,
   "metadata": {},
   "outputs": [],
   "source": []
  }
 ],
 "metadata": {
  "kernelspec": {
   "display_name": "Python 3",
   "language": "python",
   "name": "python3"
  },
  "language_info": {
   "codemirror_mode": {
    "name": "ipython",
    "version": 3
   },
   "file_extension": ".py",
   "mimetype": "text/x-python",
   "name": "python",
   "nbconvert_exporter": "python",
   "pygments_lexer": "ipython3",
   "version": "3.6.8"
  }
 },
 "nbformat": 4,
 "nbformat_minor": 2
}
