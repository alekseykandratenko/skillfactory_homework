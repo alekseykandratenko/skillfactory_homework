{
 "cells": [
  {
   "cell_type": "code",
   "execution_count": 3,
   "metadata": {},
   "outputs": [
    {
     "name": "stdout",
     "output_type": "stream",
     "text": [
      "[3, 4, 4, 5, 5, 5]\n"
     ]
    }
   ],
   "source": [
    "#sort algoritm\n",
    "def partition(nums, low, high):  \n",
    "    # Выбираем средний элемент в качестве опорного\n",
    "    # Также возможен выбор первого, последнего\n",
    "    # или произвольного элементов в качестве опорного\n",
    "    pivot = nums[(low + high) // 2]\n",
    "    i = low - 1\n",
    "    j = high + 1\n",
    "    while True:\n",
    "        i += 1\n",
    "        while nums[i] < pivot:\n",
    "            i += 1\n",
    "\n",
    "        j -= 1\n",
    "        while nums[j] > pivot:\n",
    "            j -= 1\n",
    "\n",
    "        if i >= j:\n",
    "            return j\n",
    "\n",
    "        # Если элемент с индексом i (слева от опорного) больше, чем\n",
    "        # элемент с индексом j (справа от опорного), меняем их местами\n",
    "        nums[i], nums[j] = nums[j], nums[i]\n",
    "\n",
    "def quick_sort(nums):  \n",
    "    # Создадим вспомогательную функцию, которая вызывается рекурсивно\n",
    "    def _quick_sort(items, low, high):\n",
    "        if low < high:\n",
    "            # This is the index after the pivot, where our lists are split\n",
    "            split_index = partition(items, low, high)\n",
    "            _quick_sort(items, low, split_index)\n",
    "            _quick_sort(items, split_index + 1, high)\n",
    "\n",
    "    _quick_sort(nums, 0, len(nums) - 1)\n",
    "\n",
    "# Проверяем, что оно работает\n",
    "random_list_of_nums = [4, 5, 3, 4, 5, 5]  \n",
    "quick_sort(random_list_of_nums)  \n",
    "print(random_list_of_nums) "
   ]
  },
  {
   "cell_type": "code",
   "execution_count": 16,
   "metadata": {},
   "outputs": [
    {
     "name": "stdout",
     "output_type": "stream",
     "text": [
      "moda: [5]\n"
     ]
    }
   ],
   "source": [
    "#moda\n",
    "l = [4, 5, 3, 4, 2, 5, 5]\n",
    "repeticiones = 0                                                                         \n",
    "for i in l:                                                                              \n",
    "    apariciones = l.count(i)                                                             \n",
    "    if apariciones > repeticiones:                                                       \n",
    "        repeticiones = apariciones                                                       \n",
    "                                                                                         \n",
    "modas = []                                                                               \n",
    "for i in l:                                                                              \n",
    "    apariciones = l.count(i)                                                             \n",
    "    if apariciones == repeticiones and i not in modas:                                   \n",
    "        modas.append(i)                                                                  \n",
    "                                                                                         \n",
    "print(\"moda:\", modas)  "
   ]
  },
  {
   "cell_type": "code",
   "execution_count": 30,
   "metadata": {},
   "outputs": [
    {
     "name": "stdout",
     "output_type": "stream",
     "text": [
      "4\n"
     ]
    }
   ],
   "source": [
    "#median\n",
    "l = [4, 5, 3, 4, 2, 5, 5]\n",
    "l = sorted(l)\n",
    "if len(l) % 2 == 0:\n",
    "    mean_index_1 = int(len(l) / 2)\n",
    "    mean_index_2 = int((len(l)/2) + 1)\n",
    "    mean = (l[mean_index_1-1] + l[mean_index_2-1])/2\n",
    "elif len(l)%2 != 0:\n",
    "    mean_index = int((len(l)+1)/2)\n",
    "    mean = l[mean_index-1]\n",
    "print(mean)"
   ]
  },
  {
   "cell_type": "code",
   "execution_count": 31,
   "metadata": {},
   "outputs": [
    {
     "name": "stdout",
     "output_type": "stream",
     "text": [
      "4\n",
      "4\n"
     ]
    }
   ],
   "source": [
    "from statistics import mean, median\n",
    "print(median(l))\n",
    "print(mean(l))"
   ]
  },
  {
   "cell_type": "markdown",
   "metadata": {},
   "source": [
    "В таблице представлен ряд данных о весе 20 случайно выбранных клиентов медицинской клиники — 10 мужчин и 10 женщин (в кг)."
   ]
  },
  {
   "cell_type": "code",
   "execution_count": 32,
   "metadata": {},
   "outputs": [],
   "source": [
    "import pandas as pd\n",
    "\n",
    "df = pd.DataFrame({\n",
    "    'mens': [80.2, 80.8, 57.5, 98, 50.5, 73.8, 77.4, 59.7, 77.9, 52.6],\n",
    "    'womens': [57.9, 57.3, 72.8, 48.2, 59.5, 48.3, 61.2, 53.9, 53.9, 70.7]\n",
    "})"
   ]
  },
  {
   "cell_type": "code",
   "execution_count": 34,
   "metadata": {},
   "outputs": [
    {
     "name": "stdout",
     "output_type": "stream",
     "text": [
      "70.84\n",
      "58.370000000000005\n",
      "12.469999999999999\n"
     ]
    }
   ],
   "source": [
    "print(df['mens'].mean())\n",
    "print(df['womens'].mean())\n",
    "print(df['mens'].mean() - df['womens'].mean())"
   ]
  },
  {
   "cell_type": "code",
   "execution_count": 35,
   "metadata": {},
   "outputs": [],
   "source": [
    "first_array = [2,7,4,3,6,4,1,2]\n",
    "second_array = [5,2,4,8,1,6,7]"
   ]
  },
  {
   "cell_type": "code",
   "execution_count": 36,
   "metadata": {},
   "outputs": [
    {
     "data": {
      "text/plain": [
       "3.5"
      ]
     },
     "execution_count": 36,
     "metadata": {},
     "output_type": "execute_result"
    }
   ],
   "source": [
    "median(first_array)"
   ]
  },
  {
   "cell_type": "code",
   "execution_count": 37,
   "metadata": {},
   "outputs": [
    {
     "data": {
      "text/plain": [
       "5"
      ]
     },
     "execution_count": 37,
     "metadata": {},
     "output_type": "execute_result"
    }
   ],
   "source": [
    "median(second_array)"
   ]
  },
  {
   "cell_type": "code",
   "execution_count": 38,
   "metadata": {},
   "outputs": [
    {
     "name": "stdout",
     "output_type": "stream",
     "text": [
      "75.6\n",
      "57.599999999999994\n"
     ]
    }
   ],
   "source": [
    "print(df['mens'].median())\n",
    "print(df['womens'].median())"
   ]
  },
  {
   "cell_type": "code",
   "execution_count": 41,
   "metadata": {},
   "outputs": [
    {
     "data": {
      "text/plain": [
       "59.6"
      ]
     },
     "execution_count": 41,
     "metadata": {},
     "output_type": "execute_result"
    }
   ],
   "source": [
    "patients = pd.DataFrame()\n",
    "patients['patients'] = pd.concat([df['mens'], df['womens']], ignore_index=True, axis=0)\n",
    "patients['patients'].median()"
   ]
  },
  {
   "cell_type": "code",
   "execution_count": 42,
   "metadata": {},
   "outputs": [],
   "source": [
    "#Looking for cvartil"
   ]
  },
  {
   "cell_type": "code",
   "execution_count": 58,
   "metadata": {},
   "outputs": [],
   "source": [
    "def custom_median(l):\n",
    "    l = sorted(l)\n",
    "    mediana = 0\n",
    "    if len(l)%2 == 0:\n",
    "        mean_index_1 = int(len(l) / 2) - 1\n",
    "        mean_index_2 = int((len(l)/2) + 1) - 1\n",
    "        mediana = (l[mean_index_1] + l[mean_index_2])/2\n",
    "    else:\n",
    "        mean_index = mean_index = int((len(l)+1)/2) - 1\n",
    "        mediana = l[mean_index]\n",
    "    return mediana\n",
    "\n",
    "def custom_quantile(l):\n",
    "    l = sorted(l)\n",
    "    q2 = custom_median(l)\n",
    "    left_av_50 = []\n",
    "    right_av_50 = []\n",
    "    for i in l:\n",
    "        if i >= q2:\n",
    "            right_av_50.append(i)\n",
    "        elif i < q2:\n",
    "            left_av_50.append(i)\n",
    "    q1 = custom_median(left_av_50)\n",
    "    q3 = custom_median(right_av_50)\n",
    "    return q1, q2, q3"
   ]
  },
  {
   "cell_type": "code",
   "execution_count": 59,
   "metadata": {},
   "outputs": [
    {
     "name": "stdout",
     "output_type": "stream",
     "text": [
      "(2.0, 3.5, 5.0)\n",
      "(2, 5, 6.5)\n"
     ]
    }
   ],
   "source": [
    "l1 = [2,7,4,3,6,4,1,2]\n",
    "l2 = [5,2,4,8,1,6,7]\n",
    "l1_cvactil = custom_quantile(l1)\n",
    "l2_cvartil = custom_quantile(l2)\n",
    "print(l1_cvactil)\n",
    "print(l2_cvartil)"
   ]
  },
  {
   "cell_type": "markdown",
   "metadata": {},
   "source": [
    "Вычисляем квартили в Python\n",
    "Для вычисления квартилей в pandas используется функция quantile(). Она возвращает значение в заданном квартиле. Значение квартиля задается в диапазоне от [0,...1]. Например, для нижнего квартиля это значение равно Q1 = 0.25, для верхнего — Q3 = 0.75."
   ]
  },
  {
   "cell_type": "markdown",
   "metadata": {},
   "source": [
    "Также у quantile()  существует необязательный параметр, который  указывает метод интерполяции, который нужно использовать, когда требуемый квантиль лежит между двумя точками данных. По умолчанию используется линейная интерполяция."
   ]
  },
  {
   "cell_type": "code",
   "execution_count": 61,
   "metadata": {},
   "outputs": [],
   "source": [
    "df_l_1 = pd.DataFrame({\n",
    "    'l1': [2,7,4,3,6,4,1,2],\n",
    "})\n",
    "df_l_2 = pd.DataFrame({\n",
    "    'l2': [5,2,4,8,1,6,7],\n",
    "})"
   ]
  },
  {
   "cell_type": "code",
   "execution_count": 63,
   "metadata": {},
   "outputs": [
    {
     "data": {
      "text/plain": [
       "l1    3.5\n",
       "Name: 0.5, dtype: float64"
      ]
     },
     "execution_count": 63,
     "metadata": {},
     "output_type": "execute_result"
    }
   ],
   "source": [
    "df_l_1.quantile(q=0.5, axis=0, numeric_only=True, \n",
    "                interpolation='linear')"
   ]
  },
  {
   "cell_type": "code",
   "execution_count": 64,
   "metadata": {},
   "outputs": [
    {
     "data": {
      "text/plain": [
       "l2    5.0\n",
       "Name: 0.5, dtype: float64"
      ]
     },
     "execution_count": 64,
     "metadata": {},
     "output_type": "execute_result"
    }
   ],
   "source": [
    "df_l_2.quantile(q=0.5, axis=0, numeric_only=True, \n",
    "                interpolation='linear')"
   ]
  },
  {
   "cell_type": "code",
   "execution_count": 65,
   "metadata": {},
   "outputs": [
    {
     "data": {
      "text/plain": [
       "l1    3.5\n",
       "Name: 0.5, dtype: float64"
      ]
     },
     "execution_count": 65,
     "metadata": {},
     "output_type": "execute_result"
    }
   ],
   "source": [
    "df_l_1.quantile(q=0.5, axis=0, numeric_only=True, \n",
    "                interpolation='midpoint')"
   ]
  },
  {
   "cell_type": "code",
   "execution_count": 66,
   "metadata": {},
   "outputs": [
    {
     "data": {
      "text/plain": [
       "l2    5.0\n",
       "Name: 0.5, dtype: float64"
      ]
     },
     "execution_count": 66,
     "metadata": {},
     "output_type": "execute_result"
    }
   ],
   "source": [
    "df_l_2.quantile(q=0.5, axis=0, numeric_only=True, \n",
    "                interpolation='midpoint')"
   ]
  },
  {
   "cell_type": "markdown",
   "metadata": {},
   "source": [
    "Найдите Q1 и Q3 для мужчин и женщин, используя Python (выпишите результат, округляя до 1 знака после точки-разделителя):"
   ]
  },
  {
   "cell_type": "code",
   "execution_count": 74,
   "metadata": {},
   "outputs": [],
   "source": [
    "df = pd.DataFrame({\n",
    "    'mens': [80, 80.8, 57.5, 98, 50.5, 73.8, 77.4, 59.7, 77.9, 52.6],\n",
    "    'womens': [57.9, 57.3, 72.8, 48.2, 59.5, 48.3, 61.2, 53.9, 53.9, 70.7]\n",
    "})"
   ]
  },
  {
   "cell_type": "code",
   "execution_count": 75,
   "metadata": {},
   "outputs": [
    {
     "data": {
      "text/plain": [
       "58.6"
      ]
     },
     "execution_count": 75,
     "metadata": {},
     "output_type": "execute_result"
    }
   ],
   "source": [
    "df['mens'].quantile(q=0.25, interpolation='midpoint')"
   ]
  },
  {
   "cell_type": "code",
   "execution_count": 76,
   "metadata": {},
   "outputs": [
    {
     "data": {
      "text/plain": [
       "79.0"
      ]
     },
     "execution_count": 76,
     "metadata": {},
     "output_type": "execute_result"
    }
   ],
   "source": [
    "round(df['mens'].quantile(q=0.75, interpolation='midpoint'),1)"
   ]
  },
  {
   "cell_type": "code",
   "execution_count": 77,
   "metadata": {},
   "outputs": [
    {
     "data": {
      "text/plain": [
       "53.9"
      ]
     },
     "execution_count": 77,
     "metadata": {},
     "output_type": "execute_result"
    }
   ],
   "source": [
    "df['womens'].quantile(q=0.25, interpolation='midpoint')"
   ]
  },
  {
   "cell_type": "code",
   "execution_count": 78,
   "metadata": {},
   "outputs": [
    {
     "data": {
      "text/plain": [
       "60.4"
      ]
     },
     "execution_count": 78,
     "metadata": {},
     "output_type": "execute_result"
    }
   ],
   "source": [
    "round(df['womens'].quantile(q=0.75, interpolation='midpoint'),1)"
   ]
  },
  {
   "cell_type": "markdown",
   "metadata": {},
   "source": [
    "Найдите размах и межквартильный размах для веса на выборке пациентов клиники."
   ]
  },
  {
   "cell_type": "code",
   "execution_count": 87,
   "metadata": {},
   "outputs": [],
   "source": [
    "df = pd.DataFrame({\n",
    "    'mens': [80.2, 80.8, 57.5, 98, 50.5, 73.8, 77.4, 59.7, 77.9, 52.6],\n",
    "    'womens': [57.9, 57.3, 72.8, 48.2, 59.5, 48.3, 61.2, 53.9, 53.9, 70.7]\n",
    "})"
   ]
  },
  {
   "cell_type": "markdown",
   "metadata": {},
   "source": [
    "###### Размах для мужчин"
   ]
  },
  {
   "cell_type": "code",
   "execution_count": 88,
   "metadata": {},
   "outputs": [
    {
     "name": "stdout",
     "output_type": "stream",
     "text": [
      "47.5\n"
     ]
    }
   ],
   "source": [
    "mens_range = df['mens'].max() - df['mens'].min()\n",
    "print(mens_range)"
   ]
  },
  {
   "cell_type": "code",
   "execution_count": 89,
   "metadata": {},
   "outputs": [
    {
     "name": "stdout",
     "output_type": "stream",
     "text": [
      "20.5\n"
     ]
    }
   ],
   "source": [
    "mens_iqr = df['mens'].quantile(q=0.75, interpolation='midpoint') - df['mens'].quantile(q=0.25, interpolation='midpoint')\n",
    "print(round(mens_iqr,1))"
   ]
  },
  {
   "cell_type": "markdown",
   "metadata": {},
   "source": [
    "###### Размах для женщин"
   ]
  },
  {
   "cell_type": "code",
   "execution_count": 90,
   "metadata": {},
   "outputs": [
    {
     "name": "stdout",
     "output_type": "stream",
     "text": [
      "24.6\n"
     ]
    }
   ],
   "source": [
    "womens_range = df['womens'].max() - df['womens'].min()\n",
    "print(round(womens_range,1))"
   ]
  },
  {
   "cell_type": "code",
   "execution_count": 91,
   "metadata": {},
   "outputs": [
    {
     "name": "stdout",
     "output_type": "stream",
     "text": [
      "6.5\n"
     ]
    }
   ],
   "source": [
    "womens_iqr = df['womens'].quantile(q=0.75, interpolation='midpoint') - df['womens'].quantile(q=0.25, interpolation='midpoint')\n",
    "print(round(womens_iqr,1))"
   ]
  },
  {
   "cell_type": "markdown",
   "metadata": {},
   "source": [
    "#### Вычисляем стандартное отклонение в Python"
   ]
  },
  {
   "cell_type": "markdown",
   "metadata": {},
   "source": [
    "Для вычисления стандартного отклонения в выборке в Python используется функция std(). Единственным аргументом функции является диапазон данных. В данном случае диапазоном данных может выступать как серия pandas, так и весь датафрейм целиком. Aналогично для вычисления дисперсии используется функция var()."
   ]
  },
  {
   "cell_type": "code",
   "execution_count": 92,
   "metadata": {},
   "outputs": [
    {
     "name": "stdout",
     "output_type": "stream",
     "text": [
      "15.2\n"
     ]
    }
   ],
   "source": [
    "mens_std = df['mens'].std()\n",
    "print(round(mens_std, 1))"
   ]
  },
  {
   "cell_type": "code",
   "execution_count": 93,
   "metadata": {},
   "outputs": [
    {
     "name": "stdout",
     "output_type": "stream",
     "text": [
      "230.5\n"
     ]
    }
   ],
   "source": [
    "mens_var = df['mens'].var()\n",
    "print(round(mens_var, 1))"
   ]
  },
  {
   "cell_type": "code",
   "execution_count": 94,
   "metadata": {},
   "outputs": [
    {
     "name": "stdout",
     "output_type": "stream",
     "text": [
      "8.3\n"
     ]
    }
   ],
   "source": [
    "womens_std = df['womens'].std()\n",
    "print(round(womens_std, 1))"
   ]
  },
  {
   "cell_type": "code",
   "execution_count": 95,
   "metadata": {},
   "outputs": [
    {
     "name": "stdout",
     "output_type": "stream",
     "text": [
      "68.4\n"
     ]
    }
   ],
   "source": [
    "womens_var = df['womens'].var()\n",
    "print(round(womens_var, 1))"
   ]
  },
  {
   "cell_type": "markdown",
   "metadata": {},
   "source": [
    "Проверяем наличие выбросов в выборке пациентов клиники:"
   ]
  },
  {
   "cell_type": "code",
   "execution_count": 96,
   "metadata": {},
   "outputs": [
    {
     "data": {
      "text/html": [
       "<div>\n",
       "<style scoped>\n",
       "    .dataframe tbody tr th:only-of-type {\n",
       "        vertical-align: middle;\n",
       "    }\n",
       "\n",
       "    .dataframe tbody tr th {\n",
       "        vertical-align: top;\n",
       "    }\n",
       "\n",
       "    .dataframe thead th {\n",
       "        text-align: right;\n",
       "    }\n",
       "</style>\n",
       "<table border=\"1\" class=\"dataframe\">\n",
       "  <thead>\n",
       "    <tr style=\"text-align: right;\">\n",
       "      <th></th>\n",
       "      <th>mens</th>\n",
       "      <th>womens</th>\n",
       "    </tr>\n",
       "  </thead>\n",
       "  <tbody>\n",
       "  </tbody>\n",
       "</table>\n",
       "</div>"
      ],
      "text/plain": [
       "Empty DataFrame\n",
       "Columns: [mens, womens]\n",
       "Index: []"
      ]
     },
     "execution_count": 96,
     "metadata": {},
     "output_type": "execute_result"
    }
   ],
   "source": [
    "mens_iqr = df['mens'].quantile(q=0.75, interpolation='midpoint') - df['mens'].quantile(q=0.25, interpolation='midpoint')\n",
    "mens_q1 = df['mens'].quantile(q=0.25, interpolation='midpoint')\n",
    "mens_q3 = df['mens'].quantile(q=0.75, interpolation='midpoint')\n",
    "mens_outlier = df[(df['mens'] < mens_q1 - (1.5 * mens_iqr)) |\n",
    "                  (df['mens'] > mens_q3 + (1.5 * mens_iqr))]\n",
    "mens_outlier"
   ]
  },
  {
   "cell_type": "code",
   "execution_count": 100,
   "metadata": {},
   "outputs": [
    {
     "data": {
      "text/plain": [
       "2    72.8\n",
       "3    48.2\n",
       "5    48.3\n",
       "9    70.7\n",
       "Name: womens, dtype: float64"
      ]
     },
     "execution_count": 100,
     "metadata": {},
     "output_type": "execute_result"
    }
   ],
   "source": [
    "womens_iqr = df['womens'].quantile(q=0.75, interpolation='midpoint') - df['mens'].quantile(q=0.25, interpolation='midpoint')\n",
    "womens_q1 = df['womens'].quantile(q=0.25, interpolation='midpoint')\n",
    "womens_q3 = df['womens'].quantile(q=0.75, interpolation='midpoint')\n",
    "womens_outlier = df[(df['womens'] < womens_q1 - (1.5 * womens_iqr)) |\n",
    "                  (df['womens'] > womens_q3 + (1.5 * womens_iqr))]\n",
    "womens_outlier['womens']"
   ]
  },
  {
   "cell_type": "markdown",
   "metadata": {},
   "source": [
    "Таблица показывает среднюю температуру в январе (в градусах по Цельсию) в одном российском городе за 2007-2018 годы:"
   ]
  },
  {
   "cell_type": "code",
   "execution_count": 101,
   "metadata": {},
   "outputs": [],
   "source": [
    "df = pd.DataFrame({\n",
    "    'year': [2007, 2008, 2009, 2010, 2011, 2012, 2013, 2014, 2015, 2016, 2017, 2018],\n",
    "    'temp': [-4.7, -6.1, -5.5, -3.3, -7.1, -3.1, -5.2, -7.3, -12.1, -6.6, -5.9, -6.3]\n",
    "})"
   ]
  },
  {
   "cell_type": "code",
   "execution_count": 103,
   "metadata": {},
   "outputs": [
    {
     "data": {
      "text/plain": [
       "-6.1"
      ]
     },
     "execution_count": 103,
     "metadata": {},
     "output_type": "execute_result"
    }
   ],
   "source": [
    "#mean\n",
    "round(df['temp'].mean(),1)"
   ]
  },
  {
   "cell_type": "code",
   "execution_count": 104,
   "metadata": {},
   "outputs": [
    {
     "data": {
      "text/plain": [
       "-6.0"
      ]
     },
     "execution_count": 104,
     "metadata": {},
     "output_type": "execute_result"
    }
   ],
   "source": [
    "#median\n",
    "round(df['temp'].median(),1)"
   ]
  },
  {
   "cell_type": "code",
   "execution_count": 105,
   "metadata": {},
   "outputs": [
    {
     "data": {
      "text/plain": [
       "2.3"
      ]
     },
     "execution_count": 105,
     "metadata": {},
     "output_type": "execute_result"
    }
   ],
   "source": [
    "#std\n",
    "round(df['temp'].std(),1)"
   ]
  },
  {
   "cell_type": "code",
   "execution_count": 106,
   "metadata": {},
   "outputs": [
    {
     "data": {
      "text/plain": [
       "9.0"
      ]
     },
     "execution_count": 106,
     "metadata": {},
     "output_type": "execute_result"
    }
   ],
   "source": [
    "#range\n",
    "round(df['temp'].max() - df['temp'].min(), 1)"
   ]
  },
  {
   "cell_type": "code",
   "execution_count": 107,
   "metadata": {},
   "outputs": [
    {
     "data": {
      "text/plain": [
       "1.9"
      ]
     },
     "execution_count": 107,
     "metadata": {},
     "output_type": "execute_result"
    }
   ],
   "source": [
    "#q range\n",
    "round(df['temp'].quantile(q=0.75, interpolation='midpoint') - df['temp'].quantile(q=0.25, interpolation='midpoint'), 1)"
   ]
  },
  {
   "cell_type": "code",
   "execution_count": 109,
   "metadata": {},
   "outputs": [
    {
     "data": {
      "text/html": [
       "<div>\n",
       "<style scoped>\n",
       "    .dataframe tbody tr th:only-of-type {\n",
       "        vertical-align: middle;\n",
       "    }\n",
       "\n",
       "    .dataframe tbody tr th {\n",
       "        vertical-align: top;\n",
       "    }\n",
       "\n",
       "    .dataframe thead th {\n",
       "        text-align: right;\n",
       "    }\n",
       "</style>\n",
       "<table border=\"1\" class=\"dataframe\">\n",
       "  <thead>\n",
       "    <tr style=\"text-align: right;\">\n",
       "      <th></th>\n",
       "      <th>year</th>\n",
       "      <th>temp</th>\n",
       "    </tr>\n",
       "  </thead>\n",
       "  <tbody>\n",
       "    <tr>\n",
       "      <th>8</th>\n",
       "      <td>2015</td>\n",
       "      <td>-12.1</td>\n",
       "    </tr>\n",
       "  </tbody>\n",
       "</table>\n",
       "</div>"
      ],
      "text/plain": [
       "   year  temp\n",
       "8  2015 -12.1"
      ]
     },
     "execution_count": 109,
     "metadata": {},
     "output_type": "execute_result"
    }
   ],
   "source": [
    "#outlier\n",
    "temp_iqr = df['temp'].quantile(q=0.75, interpolation='midpoint') - df['temp'].quantile(q=0.25, interpolation='midpoint')\n",
    "temp_q1 = df['temp'].quantile(q=0.25, interpolation='midpoint')\n",
    "temp_q3 = df['temp'].quantile(q=0.75, interpolation='midpoint')\n",
    "temp_outlier = df[(df['temp'] < temp_q1 - (1.5 * temp_iqr)) |\n",
    "                  (df['temp'] > temp_q3 + (1.5 * temp_iqr))]\n",
    "temp_outlier"
   ]
  },
  {
   "cell_type": "markdown",
   "metadata": {},
   "source": [
    "Boxplot показывает пять важных характеристических значений для набора данных:\n",
    "\n",
    "- Минимум Xmin.\n",
    "- Нижний квартиль Q1.\n",
    "- Медиана Q2.\n",
    "- Верхний квартиль Q3.\n",
    "- Максимум Xmax."
   ]
  },
  {
   "cell_type": "markdown",
   "metadata": {},
   "source": [
    "Данные о расходах на мобильную связь 20 пользователей в городе А и 20 пользователей в городе Б."
   ]
  },
  {
   "cell_type": "code",
   "execution_count": 115,
   "metadata": {},
   "outputs": [],
   "source": [
    "import matplotlib.pyplot as plt\n",
    "df = pd.DataFrame({\n",
    "    'city_a': [240, 440, 455, 475, 475, 490, 490, 500, 500, 500, 530, 550, 578, 580, 620, 687, 694, 703, 859],\n",
    "    'city_b': [500, 564, 590, 600, 600, 600, 645, 650, 660, 667, 689, 692, 700, 700, 705, 735, 760, 764, 805]\n",
    "})"
   ]
  },
  {
   "cell_type": "markdown",
   "metadata": {},
   "source": [
    "Для каждого столбца в фрейме данных можно создать boxplots — df.boxplot(), указав используемые столбцы:"
   ]
  },
  {
   "cell_type": "code",
   "execution_count": 122,
   "metadata": {},
   "outputs": [
    {
     "data": {
      "image/png": "[encoded data removed]",
      "text/plain": [
       "<Figure size 432x288 with 1 Axes>"
      ]
     },
     "metadata": {
      "needs_background": "light"
     },
     "output_type": "display_data"
    }
   ],
   "source": [
    "boxplot = df.boxplot(column=['city_a', 'city_b'])"
   ]
  },
  {
   "cell_type": "code",
   "execution_count": 124,
   "metadata": {},
   "outputs": [],
   "source": [
    "data = pd.DataFrame({\n",
    "  'value': [48, 44, 42.5, 40.5, 40.5, 39, 39, 38, 38, 38, 35, 33, 30.2, 30, 26, 19.3, 27, 21]\n",
    "})"
   ]
  },
  {
   "cell_type": "code",
   "execution_count": 125,
   "metadata": {},
   "outputs": [
    {
     "data": {
      "image/png": "[encoded data removed]",
      "text/plain": [
       "<Figure size 432x288 with 1 Axes>"
      ]
     },
     "metadata": {
      "needs_background": "light"
     },
     "output_type": "display_data"
    }
   ],
   "source": [
    "boxplot = data.boxplot(column=['value'])"
   ]
  },
  {
   "cell_type": "code",
   "execution_count": 126,
   "metadata": {},
   "outputs": [
    {
     "data": {
      "text/plain": [
       "value    38.0\n",
       "dtype: float64"
      ]
     },
     "execution_count": 126,
     "metadata": {},
     "output_type": "execute_result"
    }
   ],
   "source": [
    "data.median(axis=0)"
   ]
  },
  {
   "cell_type": "markdown",
   "metadata": {},
   "source": [
    "В таблице ниже приведены данные о двух группах пользователей определенного сервиса–помощника в администрировании. Данные соответствуют общему количество времени, которое пользователи провели онлайн, используя соответствующее приложение (в часах за месяц)."
   ]
  },
  {
   "cell_type": "code",
   "execution_count": 127,
   "metadata": {},
   "outputs": [],
   "source": [
    "import pandas as pd\n",
    "df = pd.DataFrame({\n",
    "    'group_a': [72, 66, 63.75, 60.75, 60.75, 58.5, 58.5, 57, 57, 57, 52.5, 49.5, 45.3, 45, 39, 28.95, 40.5, 31.5, 49],\n",
    "    'group_b': [71, 72, 60, 50, 57, 77, 81, 58, 62, 61, 73, 74, 76, 65, 66, 67, 67, 67, 69]\n",
    "})"
   ]
  },
  {
   "cell_type": "code",
   "execution_count": 128,
   "metadata": {},
   "outputs": [
    {
     "data": {
      "image/png": "[encoded data removed]",
      "text/plain": [
       "<Figure size 432x288 with 1 Axes>"
      ]
     },
     "metadata": {
      "needs_background": "light"
     },
     "output_type": "display_data"
    }
   ],
   "source": [
    "boxplot = df.boxplot(column=['group_a', 'group_b'])"
   ]
  },
  {
   "cell_type": "code",
   "execution_count": 4,
   "metadata": {},
   "outputs": [
    {
     "data": {
      "text/plain": [
       "25"
      ]
     },
     "execution_count": 4,
     "metadata": {},
     "output_type": "execute_result"
    }
   ],
   "source": [
    "l = [4,11,12,20,23,23,30,31,32,33,34,36,38,40,41,44,44,44,45,47,48,49,54,56]\n",
    "len(x)"
   ]
  },
  {
   "cell_type": "code",
   "execution_count": 2,
   "metadata": {},
   "outputs": [
    {
     "data": {
      "text/plain": [
       "25"
      ]
     },
     "execution_count": 2,
     "metadata": {},
     "output_type": "execute_result"
    }
   ],
   "source": [
    "x=[23,45,23,44,34,56,54,12,11,44,44,31,4,30,20,49,38,48,38,40,36,41,33,47,32]\n",
    "len(x)"
   ]
  },
  {
   "cell_type": "code",
   "execution_count": 5,
   "metadata": {},
   "outputs": [
    {
     "name": "stdout",
     "output_type": "stream",
     "text": [
      "[4, 11, 12, 20, 23, 23, 30, 31, 32, 33, 34, 36, 38, 38, 40, 41, 44, 44, 44, 45, 47, 48, 49, 54, 56]\n"
     ]
    }
   ],
   "source": [
    "print(sorted(x))"
   ]
  },
  {
   "cell_type": "code",
   "execution_count": 6,
   "metadata": {},
   "outputs": [
    {
     "name": "stdout",
     "output_type": "stream",
     "text": [
      "[4, 11, 12, 20, 23, 23, 30, 31, 32, 33, 34, 36, 38, 40, 41, 44, 44, 44, 45, 47, 48, 49, 54, 56]\n"
     ]
    }
   ],
   "source": [
    "print(l)"
   ]
  },
  {
   "cell_type": "code",
   "execution_count": null,
   "metadata": {},
   "outputs": [],
   "source": []
  }
 ],
 "metadata": {
  "kernelspec": {
   "display_name": "Python 3",
   "language": "python",
   "name": "python3"
  },
  "language_info": {
   "codemirror_mode": {
    "name": "ipython",
    "version": 3
   },
   "file_extension": ".py",
   "mimetype": "text/x-python",
   "name": "python",
   "nbconvert_exporter": "python",
   "pygments_lexer": "ipython3",
   "version": "3.6.8"
  }
 },
 "nbformat": 4,
 "nbformat_minor": 2
}
