{
 "cells": [
  {
   "cell_type": "markdown",
   "metadata": {},
   "source": [
    "### Доверительные интервалы на Python"
   ]
  },
  {
   "cell_type": "markdown",
   "metadata": {},
   "source": [
    "Управляющий супермаркета хочет оценить, сколько денег покупатели тратят за один поход в супермаркет в среднем. На основании ранее собранных данных известно, что расходы одного покупателя распределены приблизительно нормально. Управляющий взял случайную выборку из 15 покупателей и выяснил, что их средние расходы равны 2000 рублей, а выборочное стандартное отклонение равно 400 рублей."
   ]
  },
  {
   "cell_type": "markdown",
   "metadata": {},
   "source": [
    "выражение в формуле доверительного интервала, указанное после знака ± называется пределом погрешности. Предел погрешности можно также найти с помощью Python."
   ]
  },
  {
   "cell_type": "markdown",
   "metadata": {},
   "source": [
    "Для случая с известным значением σ предел погрешности и его интервалы "
   ]
  },
  {
   "cell_type": "markdown",
   "metadata": {},
   "source": [
    "z(alpha/2) * sigma/sqrt(n)"
   ]
  },
  {
   "cell_type": "markdown",
   "metadata": {},
   "source": [
    "можно найти, используя функцию confidence_interval_norm():"
   ]
  },
  {
   "cell_type": "code",
   "execution_count": 1,
   "metadata": {},
   "outputs": [],
   "source": [
    "from scipy.stats import norm\n",
    "import math\n",
    "\n",
    "def confidence_interval_norm(alpha, sigma, n, mean):\n",
    "    value = -norm.ppf(alpha/2)*sigma/math.sqrt(n)\n",
    "    return mean - value, mean + value"
   ]
  },
  {
   "cell_type": "markdown",
   "metadata": {},
   "source": [
    "Для случая с sigma неизвестным предел погрешности "
   ]
  },
  {
   "cell_type": "markdown",
   "metadata": {},
   "source": [
    "t(alpha/2)(k) * s/sqrt(n)"
   ]
  },
  {
   "cell_type": "markdown",
   "metadata": {},
   "source": [
    " находится через confidence_interval_t():"
   ]
  },
  {
   "cell_type": "code",
   "execution_count": 2,
   "metadata": {},
   "outputs": [],
   "source": [
    "from scipy.stats import t\n",
    "import math\n",
    "\n",
    "def confidence_interval_t(alpha, s, n, mean):\n",
    "    value = t.ppf(alpha/2, n-1)*s/math.sqrt(n)\n",
    "    return mean - value, mean + value"
   ]
  },
  {
   "cell_type": "markdown",
   "metadata": {},
   "source": [
    "В обоих случаях:\n",
    "\n",
    "        первый аргумент функции — уровень значимости alpha;\n",
    "        второй — выборочное отклонение s или sigma;\n",
    "        третий — размер выборки n;\n",
    "        четвертый — среднее значение выборки.\n"
   ]
  },
  {
   "cell_type": "markdown",
   "metadata": {},
   "source": [
    "Управляющий хочет посчитать 95 %-ный доверительный интервал для истинного среднего значения расходов одного покупателя. "
   ]
  },
  {
   "cell_type": "code",
   "execution_count": 3,
   "metadata": {},
   "outputs": [
    {
     "data": {
      "text/plain": [
       "(2307.446995559917, 1692.553004440083)"
      ]
     },
     "execution_count": 3,
     "metadata": {},
     "output_type": "execute_result"
    }
   ],
   "source": [
    "alpha = 0.01 #99$\n",
    "# alpha = 0.05 #95%\n",
    "# alpha = 0.1 #90%\n",
    "n = 15\n",
    "mean = 2000\n",
    "s = 400\n",
    "\n",
    "confidence_interval_t(alpha, s, n, mean)"
   ]
  },
  {
   "cell_type": "markdown",
   "metadata": {},
   "source": [
    "Данный ответ является пределом погрешности в интервале которого лежит истинное значение"
   ]
  },
  {
   "cell_type": "markdown",
   "metadata": {},
   "source": [
    "Чиновника интересует сумма подоходного налога, выплачиваемого домохозяйствами за год. На случайной выборке из 250 домохозяйств был посчитан средний размер выплаченного налога, и он составил $3540.  \n",
    "\n",
    "Также на основании ранее предоставленных данных из налоговой инспекции известно истинное стандартное отклонение величины подоходного налога, равное $1150.\n",
    "Необходимо найти 99% доверительный интервал для истинного среднего значения налоговых выплат за год."
   ]
  },
  {
   "cell_type": "code",
   "execution_count": 4,
   "metadata": {},
   "outputs": [
    {
     "data": {
      "text/plain": [
       "(3352.6537883505453, 3727.3462116494547)"
      ]
     },
     "execution_count": 4,
     "metadata": {},
     "output_type": "execute_result"
    }
   ],
   "source": [
    "import numpy as np\n",
    "mean = 3540\n",
    "n = 250\n",
    "sigma = 1150\n",
    "alpha = 0.01\n",
    "\n",
    "confidence_interval_norm(alpha, sigma, n, mean)"
   ]
  },
  {
   "cell_type": "code",
   "execution_count": 31,
   "metadata": {},
   "outputs": [
    {
     "name": "stdout",
     "output_type": "stream",
     "text": [
      "1.19\n",
      "10\n",
      "0.8178630692236935\n",
      "0.68\n",
      "1.7\n"
     ]
    }
   ],
   "source": [
    "X = np.array([1.2, 0.2, 1.6, 1.9, -0.4, 0.5, 1.4, 1.7, 2.5, 1.3])\n",
    "mean = X.mean()\n",
    "print(mean)\n",
    "n = len(X)\n",
    "print(n)\n",
    "sigma = X.std()\n",
    "print(sigma)\n",
    "alpha = 0.05\n",
    "\n",
    "value1, value2 = confidence_interval_norm(alpha, sigma, n, mean)\n",
    "print(round(value1, 2))\n",
    "print(round(value2, 2))"
   ]
  },
  {
   "cell_type": "code",
   "execution_count": 5,
   "metadata": {},
   "outputs": [
    {
     "name": "stdout",
     "output_type": "stream",
     "text": [
      "g    1.81\n",
      "dtype: float64\n",
      "g    0.57\n",
      "dtype: float64\n"
     ]
    }
   ],
   "source": [
    "import pandas as pd\n",
    "df = pd.DataFrame({'g':[1.2,0.2,1.6,1.9,-0.4,0.5,1.4,1.7,2.5,1.3]})\n",
    "alpha = 0.05\n",
    "sigma = df.std()\n",
    "n = len(df)\n",
    "mean = df.mean()\n",
    "value1, value2 = confidence_interval_t(alpha, sigma, n, mean)\n",
    "print(round(value1, 2))\n",
    "print(round(value2, 2))"
   ]
  },
  {
   "cell_type": "markdown",
   "metadata": {},
   "source": [
    "Как найти доверительный интервал для пропорции p?\n",
    "\n",
    "Помним, что согласно центральной предельной теореме при большой случайной выборке выборочная пропорция распределена приблизительно нормально. Также мы знаем, что если из нормальной величины (в данном случае p) вычесть ее среднее и поделить на стандартное отклонение (в данном случае это корень из p(1-p), поделенного на n), мы получаем стандартную нормальную величину .\n",
    "\n",
    "Исходя из этого, можем получить формулу доверительного интервала для выборочной пропорции: "
   ]
  },
  {
   "cell_type": "markdown",
   "metadata": {},
   "source": [
    "p' ~ N(p, sqrt((p*(1-p))/n))\n",
    "\n",
    "(p' - p)/sqrt((p*(1-p))/n) ~ Z ~ N(0,1)\n",
    " \n",
    "p = p' +- z*(alpha/2)*sqrt((p'*(1-p'))/n)"
   ]
  },
  {
   "cell_type": "markdown",
   "metadata": {},
   "source": [
    "#### Находим z-критическое и t-критическое"
   ]
  },
  {
   "cell_type": "markdown",
   "metadata": {},
   "source": [
    "Найти значение любого z-критического можно самостоятельно в Python, используя функцию norm.ppf(). Импортируем необходимую для этого библиотеку: "
   ]
  },
  {
   "cell_type": "code",
   "execution_count": 6,
   "metadata": {},
   "outputs": [],
   "source": [
    "from scipy.stats import norm "
   ]
  },
  {
   "cell_type": "markdown",
   "metadata": {},
   "source": [
    "Самый простой способ — найти и получить ответ как = -norm.ppf(α/2)."
   ]
  },
  {
   "cell_type": "markdown",
   "metadata": {},
   "source": [
    "Например, если уровень доверия 1 - α равен 97 %, значит α/2 = 0.015. Тогда мы найдем z(α/2) как = -norm.ppf(0.015), то есть 2.17."
   ]
  },
  {
   "cell_type": "code",
   "execution_count": 7,
   "metadata": {},
   "outputs": [
    {
     "name": "stdout",
     "output_type": "stream",
     "text": [
      "2.1700903775845606\n"
     ]
    }
   ],
   "source": [
    "alpha = 0.03\n",
    "value = -norm.ppf(alpha/2)\n",
    "print(value) # 2.17"
   ]
  },
  {
   "cell_type": "markdown",
   "metadata": {},
   "source": [
    "Функция norm.ppf(x) возвращает значение z крит, левее (ниже) которого лежит доля x левого хвоста стандартного нормального распределения. Выражение norm.ppf(α/2) вернёт - z(α/2), то есть значение z крит, ниже которого α/2 всех значений стандартного нормального распределения. Это число отрицательное, мы берем его со знаком минус, чтобы получить z(α/2)."
   ]
  },
  {
   "cell_type": "markdown",
   "metadata": {},
   "source": [
    "Также можно находить значения t-критического t(α/2)(k) при помощи функции t.ppf(p, k). Первый аргумент — уровень доверия p=1-α, а второй — количество степеней свободы k, рассчитываемое как n-1."
   ]
  },
  {
   "cell_type": "markdown",
   "metadata": {},
   "source": [
    "Например, если нужно построить 95%-ный доверительный интервал для среднего с использованием выборки размером в 100 наблюдений, когда sigma неизвестна, то t(α/2)(k) можно найти через:"
   ]
  },
  {
   "cell_type": "code",
   "execution_count": 8,
   "metadata": {},
   "outputs": [
    {
     "name": "stdout",
     "output_type": "stream",
     "text": [
      "1.9842169515086827\n"
     ]
    }
   ],
   "source": [
    "# 0.95 - доверительный интервал, 100-1 число степеней свободы\n",
    "# для двустороннего t-теста\n",
    "value = t.ppf((1 + 0.95)/2, 100-1)\n",
    "print(value) # 1.98"
   ]
  },
  {
   "cell_type": "markdown",
   "metadata": {},
   "source": [
    "Найдите z-критическое для интервала с уровнем доверия 93 %. Укажите с точностью до 2 знаков после разделительной точки."
   ]
  },
  {
   "cell_type": "code",
   "execution_count": 10,
   "metadata": {},
   "outputs": [
    {
     "name": "stdout",
     "output_type": "stream",
     "text": [
      "1.81\n"
     ]
    }
   ],
   "source": [
    "alpha = 0.07\n",
    "value = -norm.ppf(alpha/2)\n",
    "print(round(value,2))"
   ]
  },
  {
   "cell_type": "markdown",
   "metadata": {},
   "source": [
    "Найдите критические значения для следующих доверительных интервалов (ответ укажите с точностью до двух знаков после разделительной точки):"
   ]
  },
  {
   "cell_type": "markdown",
   "metadata": {},
   "source": [
    "1. Доверительный интервал для среднего mu нормально распределённой величины X, на выборке размером n=10, если σ известна, на 99 % уровне доверия"
   ]
  },
  {
   "cell_type": "code",
   "execution_count": 14,
   "metadata": {},
   "outputs": [
    {
     "name": "stdout",
     "output_type": "stream",
     "text": [
      "2.58\n"
     ]
    }
   ],
   "source": [
    "alpha = 0.01\n",
    "value = -norm.ppf(alpha/2)\n",
    "print(round(value,2))"
   ]
  },
  {
   "cell_type": "markdown",
   "metadata": {},
   "source": [
    "2. Доверительный интервал для среднего mu нормально распределённой величины X, на выборке размером n=10, если неизвестна, на 99% уровне доверия\n"
   ]
  },
  {
   "cell_type": "code",
   "execution_count": 15,
   "metadata": {},
   "outputs": [
    {
     "name": "stdout",
     "output_type": "stream",
     "text": [
      "3.25\n"
     ]
    }
   ],
   "source": [
    "value = t.ppf((1 + 0.99)/2, 10-1)\n",
    "print(round(value,2))"
   ]
  },
  {
   "cell_type": "markdown",
   "metadata": {},
   "source": [
    "3. Доверительный интервал для среднего mu, на выборке размером n=100, sigma неизвестна, на 95% уровне доверия"
   ]
  },
  {
   "cell_type": "code",
   "execution_count": 16,
   "metadata": {},
   "outputs": [
    {
     "name": "stdout",
     "output_type": "stream",
     "text": [
      "1.98\n"
     ]
    }
   ],
   "source": [
    "value = t.ppf((1 + 0.95)/2, 100-1)\n",
    "print(round(value,2))"
   ]
  },
  {
   "cell_type": "markdown",
   "metadata": {},
   "source": [
    "4. Доверительный интервал для пропорции p, на выборке размером n=100, на 95% уровне доверия "
   ]
  },
  {
   "cell_type": "code",
   "execution_count": 17,
   "metadata": {},
   "outputs": [
    {
     "name": "stdout",
     "output_type": "stream",
     "text": [
      "1.96\n"
     ]
    }
   ],
   "source": [
    "alpha = 0.05\n",
    "value = -norm.ppf(alpha/2)\n",
    "print(round(value,2))"
   ]
  },
  {
   "cell_type": "code",
   "execution_count": null,
   "metadata": {},
   "outputs": [],
   "source": []
  }
 ],
 "metadata": {
  "kernelspec": {
   "display_name": "Python 3",
   "language": "python",
   "name": "python3"
  },
  "language_info": {
   "codemirror_mode": {
    "name": "ipython",
    "version": 3
   },
   "file_extension": ".py",
   "mimetype": "text/x-python",
   "name": "python",
   "nbconvert_exporter": "python",
   "pygments_lexer": "ipython3",
   "version": "3.8.2"
  }
 },
 "nbformat": 4,
 "nbformat_minor": 2
}
