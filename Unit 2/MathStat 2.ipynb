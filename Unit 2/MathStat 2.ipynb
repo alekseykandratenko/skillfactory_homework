{
 "cells": [
  {
   "cell_type": "code",
   "execution_count": 1,
   "metadata": {},
   "outputs": [],
   "source": [
    "import pandas as pd"
   ]
  },
  {
   "cell_type": "markdown",
   "metadata": {},
   "source": [
    "Рассмотрим пример. Хипстер Ваня хочет открыть свой бизнес, но выбранная им сфера деятельности требует получения лицензии. Известно, что не всегда удается получить ее с первого раза. Допустим, нам удалось собрать информацию о том, сколько попыток понадобилось предшественникам Вани. Посмотрим на эту таблицу:"
   ]
  },
  {
   "cell_type": "code",
   "execution_count": 3,
   "metadata": {},
   "outputs": [],
   "source": [
    "x = [0.05, 0.1, 0.3, 0.25, 0.15, 0.07, 0.05, 0.03]"
   ]
  },
  {
   "cell_type": "code",
   "execution_count": 6,
   "metadata": {},
   "outputs": [],
   "source": [
    "df_x = pd.DataFrame(data=x, columns=['accuracy'])"
   ]
  },
  {
   "cell_type": "markdown",
   "metadata": {},
   "source": [
    "Здесь x — это количество попыток для успешного получения лицензии. Благодаря этим данным нам удалось получить распределение вероятностей, где x принимает значение от 1 до 8. По таблице мы видим, например, что вероятность того, что понадобится 3 попытки, составляет 0.3, то есть 30%."
   ]
  },
  {
   "cell_type": "code",
   "execution_count": 10,
   "metadata": {},
   "outputs": [
    {
     "data": {
      "text/plain": [
       "<matplotlib.axes._subplots.AxesSubplot at 0x1fbe56a5668>"
      ]
     },
     "execution_count": 10,
     "metadata": {},
     "output_type": "execute_result"
    },
    {
     "data": {
      "image/png": "[encoded data removed]",
      "text/plain": [
       "<Figure size 432x288 with 1 Axes>"
      ]
     },
     "metadata": {
      "needs_background": "light"
     },
     "output_type": "display_data"
    }
   ],
   "source": [
    "df_x['accuracy'].plot(kind = 'bar')"
   ]
  },
  {
   "cell_type": "markdown",
   "metadata": {},
   "source": [
    "По оси X отложены возможные значения количества попыток x, а по оси Y — вероятности соответствующих исходов. Глядя на этот график, мы можем, например, сказать, какова вероятность того, что для успеха нам понадобится от 4 до 6 попыток. Для этого нам понадобится сумма высоты столбцов над значениями 4, 5 и 6:"
   ]
  },
  {
   "cell_type": "code",
   "execution_count": 12,
   "metadata": {},
   "outputs": [
    {
     "data": {
      "text/plain": [
       "0.27"
      ]
     },
     "execution_count": 12,
     "metadata": {},
     "output_type": "execute_result"
    }
   ],
   "source": [
    "P = df_x['accuracy'].loc[4] + df_x['accuracy'].loc[5] + df_x['accuracy'].loc[6]\n",
    "P"
   ]
  },
  {
   "cell_type": "markdown",
   "metadata": {},
   "source": [
    "То есть вероятность того, что для получения лицензии Васе понадобится от 5 до 7 попыток, составляет 27%."
   ]
  },
  {
   "cell_type": "code",
   "execution_count": 13,
   "metadata": {},
   "outputs": [
    {
     "data": {
      "text/plain": [
       "400"
      ]
     },
     "execution_count": 13,
     "metadata": {},
     "output_type": "execute_result"
    }
   ],
   "source": [
    "16*25"
   ]
  },
  {
   "cell_type": "code",
   "execution_count": 15,
   "metadata": {},
   "outputs": [
    {
     "data": {
      "text/plain": [
       "180.0"
      ]
     },
     "execution_count": 15,
     "metadata": {},
     "output_type": "execute_result"
    }
   ],
   "source": [
    "200*2.4-300"
   ]
  },
  {
   "cell_type": "code",
   "execution_count": 16,
   "metadata": {},
   "outputs": [],
   "source": [
    "x = [2,3,4,5]\n",
    "P_x = [0.1, 0.2, 0.6, 0.1]"
   ]
  },
  {
   "cell_type": "code",
   "execution_count": 43,
   "metadata": {},
   "outputs": [],
   "source": [
    "def math_stat(x, P_x):\n",
    "    mu = 0\n",
    "    for i in range(len(x)):\n",
    "        mu += x[i]*P_x[i]\n",
    "\n",
    "    var=0\n",
    "    for i in range(len(x)): \n",
    "        var += (x[i] - mu)**2*P_x[i]\n",
    "\n",
    "    sigma = var**0.5\n",
    "    return mu, var, sigma"
   ]
  },
  {
   "cell_type": "code",
   "execution_count": 24,
   "metadata": {},
   "outputs": [
    {
     "name": "stdout",
     "output_type": "stream",
     "text": [
      "E(X): 3.7\n",
      "Var(X): 0.61\n",
      "Sigma: 0.7810249675906654\n"
     ]
    }
   ],
   "source": [
    "math_stat(x, P_x)"
   ]
  },
  {
   "cell_type": "markdown",
   "metadata": {},
   "source": [
    "Фирма производит гвозди. Гвозди продаются в небольших упаковках, в каждую попадает X гвоздей. Ниже представлено распределение вероятностей X:"
   ]
  },
  {
   "cell_type": "code",
   "execution_count": 25,
   "metadata": {},
   "outputs": [],
   "source": [
    "x = [38, 39, 40, 41, 42, 43]\n",
    "P_x = [0.1, 0.1, 0.3, 0.2, 0.2, 0.1]"
   ]
  },
  {
   "cell_type": "code",
   "execution_count": 26,
   "metadata": {},
   "outputs": [
    {
     "name": "stdout",
     "output_type": "stream",
     "text": [
      "E(X): 40.6\n",
      "Var(X): 2.04\n",
      "Sigma: 1.42828568570857\n"
     ]
    }
   ],
   "source": [
    "math_stat(x, P_x)"
   ]
  },
  {
   "cell_type": "markdown",
   "metadata": {},
   "source": [
    "Вес одного гвоздя 10 граммов, вес пустой упаковки 20 граммов. На основании ответов, полученных в первой части, найдите средний вес упаковки с гвоздями и его стандартное отклонение."
   ]
  },
  {
   "cell_type": "code",
   "execution_count": 27,
   "metadata": {},
   "outputs": [
    {
     "name": "stdout",
     "output_type": "stream",
     "text": [
      "E(X): 426.0\n",
      "Var(X): 204.00000000000003\n",
      "Sigma: 14.2828568570857\n"
     ]
    }
   ],
   "source": [
    "new_x = [(i*10)+20 for i in x]\n",
    "math_stat(new_x, P_x)"
   ]
  },
  {
   "cell_type": "markdown",
   "metadata": {},
   "source": [
    "U = 3X+1\n",
    "S = 5-Y\n",
    "\n",
    "X и Y — случайные величины со следующими распределениями вероятностей:"
   ]
  },
  {
   "cell_type": "code",
   "execution_count": 29,
   "metadata": {},
   "outputs": [],
   "source": [
    "x = [1, 2, 3, 4]\n",
    "P_x = [0.2, 0.1, 0.4, 0.3]\n",
    "\n",
    "y = [-1, 0, 1, 2]\n",
    "P_y = [0.5, 0.2, 0.1, 0.2]"
   ]
  },
  {
   "cell_type": "code",
   "execution_count": 45,
   "metadata": {},
   "outputs": [
    {
     "name": "stdout",
     "output_type": "stream",
     "text": [
      "E(X): 2.8\n",
      "Var(X): 1.16\n",
      "Sigma: 1.0770329614269007\n"
     ]
    }
   ],
   "source": [
    "mu, var, sigma = math_stat(x, P_x)\n",
    "print('E(X):', mu)\n",
    "print('Var(X):', var)\n",
    "print('Sigma:', sigma)"
   ]
  },
  {
   "cell_type": "code",
   "execution_count": 44,
   "metadata": {},
   "outputs": [
    {
     "name": "stdout",
     "output_type": "stream",
     "text": [
      "E(Y): 0.0\n",
      "Var(Y): 1.4\n",
      "Sigma: 1.1832159566199232\n"
     ]
    }
   ],
   "source": [
    "mu, var, sigma = math_stat(y, P_y)\n",
    "print('E(Y):', mu)\n",
    "print('Var(Y):', var)\n",
    "print('Sigma:', sigma)"
   ]
  },
  {
   "cell_type": "code",
   "execution_count": 46,
   "metadata": {},
   "outputs": [
    {
     "name": "stdout",
     "output_type": "stream",
     "text": [
      "E(U): 9.4\n",
      "Var(U): 10.440000000000001\n",
      "Sigma: 3.2310988842807027\n"
     ]
    }
   ],
   "source": [
    "u = [3*i+1 for i in x]\n",
    "mu, var, sigma = math_stat(u, P_x)\n",
    "print('E(U):', mu)\n",
    "print('Var(U):', var)\n",
    "print('Sigma:', sigma)"
   ]
  },
  {
   "cell_type": "code",
   "execution_count": 47,
   "metadata": {},
   "outputs": [
    {
     "name": "stdout",
     "output_type": "stream",
     "text": [
      "E(S): 5.0\n",
      "Var(S): 1.4\n",
      "Sigma: 1.1832159566199232\n"
     ]
    }
   ],
   "source": [
    "s = [5-i for i in y]\n",
    "mu, var, sigma = math_stat(s, P_y)\n",
    "print('E(S):', mu)\n",
    "print('Var(S):', var)\n",
    "print('Sigma:', sigma)"
   ]
  },
  {
   "cell_type": "code",
   "execution_count": 41,
   "metadata": {},
   "outputs": [
    {
     "name": "stdout",
     "output_type": "stream",
     "text": [
      "E(U-S): 4.4\n",
      "Var(U-S): 11.840000000000002\n"
     ]
    }
   ],
   "source": [
    "print('E(U-S):', 9.4-5)\n",
    "print('Var(U-S):', 10.440000000000001 + 1.4)"
   ]
  },
  {
   "cell_type": "markdown",
   "metadata": {},
   "source": [
    "Известно, что вес жителя Гонконга распределен нормально со средним в 70 кг и стандартным отклонением 5 кг. Лифт в одном бизнес-центре может поднять не более 375 кг. Также на нем указана вместимость не более 5 человек. Другими словами, если 5 человек входят в лифт, их средний вес не должен превысить 75 кг (как 375/5).\n",
    "\n",
    "Какова вероятность, что средний вес случайно подошедших к лифту 5 человек превысит 75 кг и не позволит лифту подняться? Укажите ответ в виде десяточной дроби с 3 знаками после точки-разделителя."
   ]
  },
  {
   "cell_type": "markdown",
   "metadata": {},
   "source": [
    "###### Найти вероятность, что лифт не поедет. То есть! Найти вероятность, что средний вес 5 человек (это у нас будет Х) больше 75. То есть P(X>75) ищем. Для P(X<=75) у нас есть norm.cdf() . Среднее есть. Нам надо поделить наше отклонение на корень из выборки, чтобы получить отклонение именно для среднего. "
   ]
  },
  {
   "cell_type": "code",
   "execution_count": null,
   "metadata": {},
   "outputs": [],
   "source": [
    "# μ = E(70) #нормальное распределение\n",
    "# σ = Var(5) #стандартное отклонение\n",
    "# σ_X_ = σ/(n)**0.5 #стандартное отклонение выборочного среднего\n",
    "X = 75 #ожидаемое значение\n",
    "\n",
    "\n"
   ]
  }
 ],
 "metadata": {
  "kernelspec": {
   "display_name": "Python 3",
   "language": "python",
   "name": "python3"
  },
  "language_info": {
   "codemirror_mode": {
    "name": "ipython",
    "version": 3
   },
   "file_extension": ".py",
   "mimetype": "text/x-python",
   "name": "python",
   "nbconvert_exporter": "python",
   "pygments_lexer": "ipython3",
   "version": "3.8.2"
  }
 },
 "nbformat": 4,
 "nbformat_minor": 2
}
